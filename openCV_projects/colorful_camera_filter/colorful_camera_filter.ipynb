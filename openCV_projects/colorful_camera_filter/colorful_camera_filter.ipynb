{
 "cells": [
  {
   "cell_type": "code",
   "execution_count": 1,
   "metadata": {},
   "outputs": [],
   "source": [
    "import cv2\n",
    "import numpy as np\n",
    "\n",
    "#Function which generates each frame of image input\n",
    "def make_it_cool(image, colorful_img):\n",
    "    \n",
    "    # mask will be used for brightening colorful image\n",
    "    mask_for_brightnes = np.ones((400,400,3), dtype =\"uint8\") * 80\n",
    "    # kernel will be used for eroding camera's image \n",
    "    kernel_for_erosion = np.ones((2,2), np.uint8)\n",
    "    \n",
    "    # at first we are creating edgy binary image\n",
    "    image_gray = cv2.cvtColor(image, cv2.COLOR_BGR2GRAY)\n",
    "    image_gray_blured = cv2.GaussianBlur(image_gray, (5,5), 0)\n",
    "    canny_edges = cv2.Canny(image_gray_blured, 15,70)\n",
    "    ret, edged_image = cv2.threshold(canny_edges, 44, 255, cv2.THRESH_BINARY_INV)\n",
    "    \n",
    "    \n",
    "    edged_image = cv2.erode(edged_image, kernel_for_erosion, iterations = 1)\n",
    "    # must to do, in order to make edges 'colorful'\n",
    "    edged_image = cv2.bitwise_not(edged_image)\n",
    "    # converting back to bgr because bitwise operation needs both images to be same size (specially for 3rd dimension)\n",
    "    edged_image = cv2.cvtColor(edged_image, cv2.COLOR_GRAY2BGR)\n",
    "    \n",
    "    image = cv2.resize(edged_image, (400,400))\n",
    "    colorful_img = cv2.resize(colorful_img, (400,400))\n",
    "    \n",
    "    #brithening colorful image, just for better overall experience\n",
    "    colorful_img = cv2.add(colorful_img,mask_for_brightnes)\n",
    "    \n",
    "    cool_image = cv2.bitwise_and(image, colorful_img)\n",
    "    \n",
    "    return cool_image\n",
    "\n",
    "\n",
    "cap = cv2.VideoCapture(0)\n",
    "colorful_img = cv2.imread('colorful.jpg',cv2.IMREAD_COLOR)\n",
    "\n",
    "while True:\n",
    "    ret, frame = cap.read()\n",
    "    cv2.imshow('Live spacey', make_it_cool(frame, colorful_img))\n",
    "    if cv2.waitKey(1) == 13:\n",
    "        break\n",
    "\n",
    "cap.release()\n",
    "cv2.destroyAllWindows()"
   ]
  },
  {
   "cell_type": "code",
   "execution_count": null,
   "metadata": {},
   "outputs": [],
   "source": []
  },
  {
   "cell_type": "code",
   "execution_count": null,
   "metadata": {},
   "outputs": [],
   "source": []
  }
 ],
 "metadata": {
  "kernelspec": {
   "display_name": "Python 3",
   "language": "python",
   "name": "python3"
  },
  "language_info": {
   "codemirror_mode": {
    "name": "ipython",
    "version": 3
   },
   "file_extension": ".py",
   "mimetype": "text/x-python",
   "name": "python",
   "nbconvert_exporter": "python",
   "pygments_lexer": "ipython3",
   "version": "3.6.9"
  }
 },
 "nbformat": 4,
 "nbformat_minor": 2
}
